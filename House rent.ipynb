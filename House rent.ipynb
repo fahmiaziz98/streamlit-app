{
 "cells": [
  {
   "cell_type": "markdown",
   "id": "fe075ec9",
   "metadata": {},
   "source": [
    "# About Dataset\n",
    "https://www.kaggle.com/code/coteli/house-rent-prediction-eda\n",
    "## Context\n",
    "Housing in India varies from palaces of erstwhile maharajas to modern apartment buildings in big cities to tiny huts in far-flung villages. There has been tremendous growth in India's housing sector as incomes have risen. The Human Rights Measurement Initiative finds that India is doing 60.9% of what should be possible at its level of income for the right to housing.\n",
    "\n",
    "Renting, also known as hiring or letting, is an agreement where a payment is made for the temporary use of a good, service, or property owned by another. A gross lease is when the tenant pays a flat rental amount and the landlord pays for all property charges regularly incurred by the ownership. Renting can be an example of the sharing economy.\n",
    "\n",
    "#### Content\n",
    "In this Dataset, we have information on almost 4700+ Houses/Apartments/Flats Available for Rent with different parameters like BHK, Rent, Size, No. of Floors, Area Type, Area Locality, City, Furnishing Status, Type of Tenant Preferred, No. of Bathrooms, Point of Contact.\n",
    "\n",
    "Dataset Glossary (Column-Wise)\n",
    "- BHK: Number of Bedrooms, Hall, Kitchen.\n",
    "- Rent: Rent of the Houses/Apartments/Flats.\n",
    "- Size: Size of the Houses/Apartments/Flats in Square Feet.\n",
    "- Floor: Houses/Apartments/Flats situated in which Floor and Total Number of Floors (Example: Ground out of 2, 3 out of 5, etc.)\n",
    "- Area Type: Size of the Houses/Apartments/Flats calculated on either Super Area or Carpet Area or Build Area.\n",
    "- Area Locality: Locality of the Houses/Apartments/Flats.\n",
    "- City: City where the Houses/Apartments/Flats are Located.\n",
    "- Furnishing Status: Furnishing Status of the Houses/Apartments/Flats, either it is Furnished or Semi-Furnished or Unfurnished.\n",
    "- Tenant Preferred: Type of Tenant Preferred by the Owner or Agent.\n",
    "- Bathroom: Number of Bathrooms.\n",
    "- Point of Contact: Whom should you contact for more information regarding the Houses/Apartments/Flats."
   ]
  },
  {
   "cell_type": "markdown",
   "id": "9f771167",
   "metadata": {},
   "source": [
    "# Import Data"
   ]
  },
  {
   "cell_type": "code",
   "execution_count": 1,
   "id": "8eaec597",
   "metadata": {},
   "outputs": [],
   "source": [
    "import numpy as np\n",
    "import pandas as pd\n",
    "import seaborn as sns\n",
    "import matplotlib.pyplot as plt"
   ]
  },
  {
   "cell_type": "code",
   "execution_count": 2,
   "id": "70e6372e",
   "metadata": {},
   "outputs": [
    {
     "data": {
      "text/html": [
       "<div>\n",
       "<style scoped>\n",
       "    .dataframe tbody tr th:only-of-type {\n",
       "        vertical-align: middle;\n",
       "    }\n",
       "\n",
       "    .dataframe tbody tr th {\n",
       "        vertical-align: top;\n",
       "    }\n",
       "\n",
       "    .dataframe thead th {\n",
       "        text-align: right;\n",
       "    }\n",
       "</style>\n",
       "<table border=\"1\" class=\"dataframe\">\n",
       "  <thead>\n",
       "    <tr style=\"text-align: right;\">\n",
       "      <th></th>\n",
       "      <th>Posted On</th>\n",
       "      <th>BHK</th>\n",
       "      <th>Rent</th>\n",
       "      <th>Size</th>\n",
       "      <th>Floor</th>\n",
       "      <th>Area Type</th>\n",
       "      <th>Area Locality</th>\n",
       "      <th>City</th>\n",
       "      <th>Furnishing Status</th>\n",
       "      <th>Tenant Preferred</th>\n",
       "      <th>Bathroom</th>\n",
       "      <th>Point of Contact</th>\n",
       "    </tr>\n",
       "  </thead>\n",
       "  <tbody>\n",
       "    <tr>\n",
       "      <th>0</th>\n",
       "      <td>2022-05-18</td>\n",
       "      <td>2</td>\n",
       "      <td>10000</td>\n",
       "      <td>1100</td>\n",
       "      <td>Ground out of 2</td>\n",
       "      <td>Super Area</td>\n",
       "      <td>Bandel</td>\n",
       "      <td>Kolkata</td>\n",
       "      <td>Unfurnished</td>\n",
       "      <td>Bachelors/Family</td>\n",
       "      <td>2</td>\n",
       "      <td>Contact Owner</td>\n",
       "    </tr>\n",
       "    <tr>\n",
       "      <th>1</th>\n",
       "      <td>2022-05-13</td>\n",
       "      <td>2</td>\n",
       "      <td>20000</td>\n",
       "      <td>800</td>\n",
       "      <td>1 out of 3</td>\n",
       "      <td>Super Area</td>\n",
       "      <td>Phool Bagan, Kankurgachi</td>\n",
       "      <td>Kolkata</td>\n",
       "      <td>Semi-Furnished</td>\n",
       "      <td>Bachelors/Family</td>\n",
       "      <td>1</td>\n",
       "      <td>Contact Owner</td>\n",
       "    </tr>\n",
       "    <tr>\n",
       "      <th>2</th>\n",
       "      <td>2022-05-16</td>\n",
       "      <td>2</td>\n",
       "      <td>17000</td>\n",
       "      <td>1000</td>\n",
       "      <td>1 out of 3</td>\n",
       "      <td>Super Area</td>\n",
       "      <td>Salt Lake City Sector 2</td>\n",
       "      <td>Kolkata</td>\n",
       "      <td>Semi-Furnished</td>\n",
       "      <td>Bachelors/Family</td>\n",
       "      <td>1</td>\n",
       "      <td>Contact Owner</td>\n",
       "    </tr>\n",
       "    <tr>\n",
       "      <th>3</th>\n",
       "      <td>2022-07-04</td>\n",
       "      <td>2</td>\n",
       "      <td>10000</td>\n",
       "      <td>800</td>\n",
       "      <td>1 out of 2</td>\n",
       "      <td>Super Area</td>\n",
       "      <td>Dumdum Park</td>\n",
       "      <td>Kolkata</td>\n",
       "      <td>Unfurnished</td>\n",
       "      <td>Bachelors/Family</td>\n",
       "      <td>1</td>\n",
       "      <td>Contact Owner</td>\n",
       "    </tr>\n",
       "    <tr>\n",
       "      <th>4</th>\n",
       "      <td>2022-05-09</td>\n",
       "      <td>2</td>\n",
       "      <td>7500</td>\n",
       "      <td>850</td>\n",
       "      <td>1 out of 2</td>\n",
       "      <td>Carpet Area</td>\n",
       "      <td>South Dum Dum</td>\n",
       "      <td>Kolkata</td>\n",
       "      <td>Unfurnished</td>\n",
       "      <td>Bachelors</td>\n",
       "      <td>1</td>\n",
       "      <td>Contact Owner</td>\n",
       "    </tr>\n",
       "  </tbody>\n",
       "</table>\n",
       "</div>"
      ],
      "text/plain": [
       "   Posted On  BHK   Rent  Size            Floor    Area Type  \\\n",
       "0 2022-05-18    2  10000  1100  Ground out of 2   Super Area   \n",
       "1 2022-05-13    2  20000   800       1 out of 3   Super Area   \n",
       "2 2022-05-16    2  17000  1000       1 out of 3   Super Area   \n",
       "3 2022-07-04    2  10000   800       1 out of 2   Super Area   \n",
       "4 2022-05-09    2   7500   850       1 out of 2  Carpet Area   \n",
       "\n",
       "              Area Locality     City Furnishing Status  Tenant Preferred  \\\n",
       "0                    Bandel  Kolkata       Unfurnished  Bachelors/Family   \n",
       "1  Phool Bagan, Kankurgachi  Kolkata    Semi-Furnished  Bachelors/Family   \n",
       "2   Salt Lake City Sector 2  Kolkata    Semi-Furnished  Bachelors/Family   \n",
       "3               Dumdum Park  Kolkata       Unfurnished  Bachelors/Family   \n",
       "4             South Dum Dum  Kolkata       Unfurnished         Bachelors   \n",
       "\n",
       "   Bathroom Point of Contact  \n",
       "0         2    Contact Owner  \n",
       "1         1    Contact Owner  \n",
       "2         1    Contact Owner  \n",
       "3         1    Contact Owner  \n",
       "4         1    Contact Owner  "
      ]
     },
     "execution_count": 2,
     "metadata": {},
     "output_type": "execute_result"
    }
   ],
   "source": [
    "df = pd.read_csv(\"House_Rent_Dataset.csv\", parse_dates=[\"Posted On\"])\n",
    "df.head()"
   ]
  },
  {
   "cell_type": "code",
   "execution_count": 3,
   "id": "c710025f",
   "metadata": {},
   "outputs": [
    {
     "data": {
      "text/html": [
       "<div>\n",
       "<style scoped>\n",
       "    .dataframe tbody tr th:only-of-type {\n",
       "        vertical-align: middle;\n",
       "    }\n",
       "\n",
       "    .dataframe tbody tr th {\n",
       "        vertical-align: top;\n",
       "    }\n",
       "\n",
       "    .dataframe thead th {\n",
       "        text-align: right;\n",
       "    }\n",
       "</style>\n",
       "<table border=\"1\" class=\"dataframe\">\n",
       "  <thead>\n",
       "    <tr style=\"text-align: right;\">\n",
       "      <th></th>\n",
       "      <th>count</th>\n",
       "      <th>mean</th>\n",
       "      <th>std</th>\n",
       "      <th>min</th>\n",
       "      <th>25%</th>\n",
       "      <th>50%</th>\n",
       "      <th>75%</th>\n",
       "      <th>max</th>\n",
       "    </tr>\n",
       "  </thead>\n",
       "  <tbody>\n",
       "    <tr>\n",
       "      <th>BHK</th>\n",
       "      <td>4746.0</td>\n",
       "      <td>2.083860</td>\n",
       "      <td>0.832256</td>\n",
       "      <td>1.0</td>\n",
       "      <td>2.0</td>\n",
       "      <td>2.0</td>\n",
       "      <td>3.0</td>\n",
       "      <td>6.0</td>\n",
       "    </tr>\n",
       "    <tr>\n",
       "      <th>Rent</th>\n",
       "      <td>4746.0</td>\n",
       "      <td>34993.451327</td>\n",
       "      <td>78106.412937</td>\n",
       "      <td>1200.0</td>\n",
       "      <td>10000.0</td>\n",
       "      <td>16000.0</td>\n",
       "      <td>33000.0</td>\n",
       "      <td>3500000.0</td>\n",
       "    </tr>\n",
       "    <tr>\n",
       "      <th>Size</th>\n",
       "      <td>4746.0</td>\n",
       "      <td>967.490729</td>\n",
       "      <td>634.202328</td>\n",
       "      <td>10.0</td>\n",
       "      <td>550.0</td>\n",
       "      <td>850.0</td>\n",
       "      <td>1200.0</td>\n",
       "      <td>8000.0</td>\n",
       "    </tr>\n",
       "    <tr>\n",
       "      <th>Bathroom</th>\n",
       "      <td>4746.0</td>\n",
       "      <td>1.965866</td>\n",
       "      <td>0.884532</td>\n",
       "      <td>1.0</td>\n",
       "      <td>1.0</td>\n",
       "      <td>2.0</td>\n",
       "      <td>2.0</td>\n",
       "      <td>10.0</td>\n",
       "    </tr>\n",
       "  </tbody>\n",
       "</table>\n",
       "</div>"
      ],
      "text/plain": [
       "           count          mean           std     min      25%      50%  \\\n",
       "BHK       4746.0      2.083860      0.832256     1.0      2.0      2.0   \n",
       "Rent      4746.0  34993.451327  78106.412937  1200.0  10000.0  16000.0   \n",
       "Size      4746.0    967.490729    634.202328    10.0    550.0    850.0   \n",
       "Bathroom  4746.0      1.965866      0.884532     1.0      1.0      2.0   \n",
       "\n",
       "              75%        max  \n",
       "BHK           3.0        6.0  \n",
       "Rent      33000.0  3500000.0  \n",
       "Size       1200.0     8000.0  \n",
       "Bathroom      2.0       10.0  "
      ]
     },
     "execution_count": 3,
     "metadata": {},
     "output_type": "execute_result"
    }
   ],
   "source": [
    "df.describe().transpose()"
   ]
  },
  {
   "cell_type": "markdown",
   "id": "6c7d998a",
   "metadata": {},
   "source": [
    "### Desc Data"
   ]
  },
  {
   "cell_type": "code",
   "execution_count": 4,
   "id": "2e3c296c",
   "metadata": {},
   "outputs": [],
   "source": [
    "def data_desc(df):\n",
    "    print ()\n",
    "    print(\"Overall Data Description\")\n",
    "    print (\"Total number of records\", df.shape[0])\n",
    "    print (\"Total number of columns/features\", df.shape[1])\n",
    "    print (\"\")\n",
    "    cols=df.columns\n",
    "    data_type =[]\n",
    "    for col in df.columns:\n",
    "        data_type.append(df[col].dtype)\n",
    "    n_uni = df.nunique()\n",
    "    n_miss = df.isna().sum()\n",
    "    names = list(zip(cols, data_type,n_uni,n_miss))\n",
    "    variable_desc = pd.DataFrame(names,columns=[\"Name\",\"Type\",\"Unique levels\",\"Missing\"])\n",
    "    print (variable_desc)"
   ]
  },
  {
   "cell_type": "markdown",
   "id": "a3132a30",
   "metadata": {},
   "source": [
    "Tidak ada missing value"
   ]
  },
  {
   "cell_type": "code",
   "execution_count": 5,
   "id": "a0f6ec4f",
   "metadata": {},
   "outputs": [],
   "source": [
    "# pickup_dt = df[\"Posted On\"].dt\n",
    "# df[\"Year\"] = pickup_dt.year\n",
    "# df[\"Month\"] = pickup_dt.month\n",
    "# df[\"Day\"] = pickup_dt.day\n",
    "# df.drop(columns=\"Posted On\", inplace=True)\n",
    "# df.head()"
   ]
  },
  {
   "cell_type": "code",
   "execution_count": 6,
   "id": "28edd2c5",
   "metadata": {},
   "outputs": [
    {
     "name": "stdout",
     "output_type": "stream",
     "text": [
      "\n",
      "Overall Data Description\n",
      "Total number of records 4746\n",
      "Total number of columns/features 12\n",
      "\n",
      "                 Name            Type  Unique levels  Missing\n",
      "0           Posted On  datetime64[ns]             81        0\n",
      "1                 BHK           int64              6        0\n",
      "2                Rent           int64            243        0\n",
      "3                Size           int64            615        0\n",
      "4               Floor          object            480        0\n",
      "5           Area Type          object              3        0\n",
      "6       Area Locality          object           2235        0\n",
      "7                City          object              6        0\n",
      "8   Furnishing Status          object              3        0\n",
      "9    Tenant Preferred          object              3        0\n",
      "10           Bathroom           int64              8        0\n",
      "11   Point of Contact          object              3        0\n"
     ]
    }
   ],
   "source": [
    "data_desc(df)"
   ]
  },
  {
   "cell_type": "markdown",
   "id": "40f852b7",
   "metadata": {},
   "source": [
    "\n",
    "# EDA"
   ]
  },
  {
   "cell_type": "code",
   "execution_count": 7,
   "id": "ad3d5eff",
   "metadata": {},
   "outputs": [
    {
     "data": {
      "text/plain": [
       "<AxesSubplot:>"
      ]
     },
     "execution_count": 7,
     "metadata": {},
     "output_type": "execute_result"
    },
    {
     "data": {
      "image/png": "[encoded data removed]",
      "text/plain": [
       "<Figure size 640x480 with 2 Axes>"
      ]
     },
     "metadata": {},
     "output_type": "display_data"
    }
   ],
   "source": [
    "sns.heatmap(df.corr(), annot=True)"
   ]
  },
  {
   "cell_type": "code",
   "execution_count": 8,
   "id": "c07f5cba",
   "metadata": {
    "scrolled": false
   },
   "outputs": [
    {
     "data": {
      "text/plain": [
       "array(['Ground out of 2', '1 out of 3', '1 out of 2', 'Ground out of 1',\n",
       "       'Ground out of 4', '1 out of 4', '1 out of 1', 'Ground out of 3',\n",
       "       '2 out of 3', '4 out of 5', '2 out of 2', '2 out of 5',\n",
       "       '4 out of 14', '3 out of 3', '5 out of 5', '4 out of 4',\n",
       "       '7 out of 8', '2 out of 4', '3 out of 4', '1 out of 5',\n",
       "       '8 out of 5', 'Ground out of 6', '2 out of 1',\n",
       "       'Upper Basement out of 4', 'Ground out of 5', '3 out of 5',\n",
       "       '11 out of 19', '5 out of 10', '11 out of 14',\n",
       "       'Lower Basement out of 2', '2 out of 7', '4 out of 10',\n",
       "       '7 out of 10', '2 out of 13', '6 out of 7', '4 out of 7',\n",
       "       '14 out of 14', '43 out of 78', '2 out of 8', '13 out of 18',\n",
       "       '5 out of 12', '18 out of 24', '3 out of 7', '17 out of 31',\n",
       "       '11 out of 21', '7 out of 19', '14 out of 23', '9 out of 20',\n",
       "       'Upper Basement out of 9', '19 out of 24', '3 out of 21',\n",
       "       '1 out of 22', '8 out of 8', '6 out of 12', '4 out of 58',\n",
       "       'Upper Basement out of 16', '60 out of 66', '34 out of 48',\n",
       "       '5 out of 8', '5 out of 14', '14 out of 40', '5 out of 7',\n",
       "       '9 out of 22', '12 out of 18', '26 out of 44', '1 out of 8',\n",
       "       '25 out of 42', '25 out of 41', '53 out of 78', 'Ground out of 7',\n",
       "       '14 out of 20', '13 out of 20', '16 out of 23', '10 out of 18',\n",
       "       '39 out of 60', '16 out of 21', '10 out of 32', '4 out of 8',\n",
       "       '12 out of 24', '32 out of 41', '3 out of 30', '13 out of 21',\n",
       "       '9 out of 29', '47 out of 89', '7 out of 41', '28 out of 30',\n",
       "       '13 out of 15', '6 out of 21', '8 out of 16', '2 out of 6',\n",
       "       '5 out of 19', '3 out of 11', '17 out of 42', '10 out of 12',\n",
       "       '8 out of 28', '9 out of 15', '14 out of 22', '18 out of 40',\n",
       "       '9 out of 17', '12 out of 45', '25 out of 35', '7 out of 15',\n",
       "       '10 out of 16', 'Upper Basement out of 20', '5 out of 20',\n",
       "       'Upper Basement out of 40', '5 out of 18', '34 out of 58',\n",
       "       '4 out of 6', '20 out of 22', '12 out of 19', '15 out of 18',\n",
       "       '65 out of 78', '6 out of 16', '17 out of 22', '6 out of 24',\n",
       "       '40 out of 75', '19 out of 38', '15 out of 31', '11 out of 28',\n",
       "       '10 out of 22', '17 out of 24', '15 out of 19', '9 out of 10',\n",
       "       '7 out of 12', '8 out of 20', '11 out of 13', '9 out of 19',\n",
       "       '37 out of 51', '6 out of 11', '8 out of 15', '11 out of 20',\n",
       "       '10 out of 23', 'Upper Basement out of 10', '7 out of 23',\n",
       "       '4 out of 11', '17 out of 43', '7 out of 22', '14 out of 18',\n",
       "       '6 out of 10', '8 out of 12', '3 out of 18', '7 out of 7',\n",
       "       '14 out of 58', '18 out of 23', '19 out of 19', '13 out of 14',\n",
       "       '7 out of 11', '11 out of 22', 'Upper Basement out of 30',\n",
       "       '12 out of 14', '16 out of 31', '12 out of 13', '11 out of 51',\n",
       "       '2 out of 12', '22 out of 24', '7 out of 14', '5 out of 13',\n",
       "       '7 out of 21', '14 out of 21', '17 out of 25', '9 out of 14',\n",
       "       '8 out of 27', '3 out of 6', '17 out of 20', '18 out of 22',\n",
       "       '1 out of 7', '9 out of 30', '3 out of 8', '11 out of 26',\n",
       "       '17 out of 27', '4 out of 12', '12 out of 16', '10 out of 24',\n",
       "       '65 out of 76', '7 out of 9', '17 out of 60', '10 out of 11',\n",
       "       '18 out of 25', '5 out of 11', '15 out of 17', '15 out of 23',\n",
       "       '5 out of 17', '3 out of 28', '5 out of 24', '16 out of 32',\n",
       "       '21 out of 22', '7 out of 13', '9 out of 12', '15 out of 32',\n",
       "       '18 out of 27', '15 out of 16', '18 out of 45', '15 out of 15',\n",
       "       '6 out of 14', '1 out of 20', '16 out of 36', '30 out of 44',\n",
       "       '30 out of 37', '2 out of 9', '12 out of 22', '4 out of 9',\n",
       "       '2 out of 22', '5 out of 6', '6 out of 18', '35 out of 55',\n",
       "       '16 out of 29', '30 out of 45', '5 out of 9', '16 out of 25',\n",
       "       '33 out of 42', '4 out of 16', '13 out of 23', '9 out of 38',\n",
       "       '6 out of 8', '8 out of 13', '19 out of 30', '10 out of 14',\n",
       "       '11 out of 24', '9 out of 16', '9 out of 31', '4 out of 15',\n",
       "       '3 out of 9', '22 out of 30', '3 out of 58', '1 out of 9',\n",
       "       '53 out of 60', '5 out of 22', '15 out of 22', '19 out of 21',\n",
       "       '9 out of 40', 'Ground out of 8', '44 out of 75', '8 out of 17',\n",
       "       '3 out of 14', '12 out of 31', '26 out of 42', '2 out of 45',\n",
       "       '12 out of 68', '17 out of 36', '10 out of 28', '41 out of 41',\n",
       "       '14 out of 68', '14 out of 17', '15 out of 20', '46 out of 76',\n",
       "       '12 out of 20', '20 out of 30', '18 out of 32', '10 out of 25',\n",
       "       '17 out of 29', '10 out of 31', '10 out of 15', '13 out of 16',\n",
       "       '8 out of 10', '18 out of 21', '27 out of 58', '1 out of 6',\n",
       "       '19 out of 25', '3 out of 15', '25 out of 43', '8 out of 14',\n",
       "       '11 out of 12', '9 out of 21', '10 out of 13', '45 out of 77',\n",
       "       '18 out of 19', '10 out of 20', '12 out of 29',\n",
       "       'Lower Basement out of 18', '15 out of 24', '48 out of 68',\n",
       "       '12 out of 42', '16 out of 22', '35 out of 68', '18 out of 30',\n",
       "       '11 out of 31', '50 out of 75', '18 out of 26', '12 out of 27',\n",
       "       '16 out of 20', '24 out of 55', '16 out of 37',\n",
       "       'Upper Basement out of 7', '6 out of 15', '11 out of 27',\n",
       "       '11 out of 23', '3 out of 12', '14 out of 15', '23 out of 25',\n",
       "       '14 out of 48', '29 out of 35', '15 out of 36', '15 out of 25',\n",
       "       '15 out of 28', '3 out of 36', '8 out of 11', '6 out of 20',\n",
       "       '23 out of 23', '5 out of 15', '16 out of 18', '2 out of 10',\n",
       "       '40 out of 50', '25 out of 28', '12 out of 17', '34 out of 40',\n",
       "       'Upper Basement out of 22', '8 out of 23', '5 out of 21',\n",
       "       '32 out of 59', '20 out of 32', '9 out of 18', '10 out of 37',\n",
       "       '25 out of 48', '4 out of 22', '8 out of 18', '11 out of 11',\n",
       "       '5 out of 23', '60 out of 77', '11 out of 18', '4 out of 20',\n",
       "       '5 out of 16', '3 out of 13', '30 out of 58', '15 out of 43',\n",
       "       '7 out of 16', '18 out of 28', '9 out of 55', '11 out of 25',\n",
       "       '49 out of 55', '7 out of 27', '14 out of 27', '16 out of 27',\n",
       "       '25 out of 50', '6 out of 30', '21 out of 23', '8 out of 58',\n",
       "       '20 out of 41', '3 out of 62', '4 out of 13', '7 out of 17',\n",
       "       '12 out of 21', '28 out of 39', '15 out of 58', '6 out of 23',\n",
       "       '36 out of 45', '9 out of 28', '6 out of 45', '22 out of 52',\n",
       "       '10 out of 19', '21 out of 58', '48 out of 54', '7 out of 28',\n",
       "       '11 out of 15', '19 out of 22', '15 out of 37', '2 out of 17',\n",
       "       '76 out of 78', '3 out of 10', '20 out of 27', '8 out of 36',\n",
       "       '14 out of 33', '21 out of 21', '12 out of 25', '18 out of 29',\n",
       "       '14 out of 35', '7 out of 20', '20 out of 37', '9 out of 35',\n",
       "       '27 out of 27', '15 out of 60', '19 out of 33', '18 out of 20',\n",
       "       '13 out of 40', '9 out of 11', '8 out of 22', '6 out of 13',\n",
       "       '20 out of 31', '27 out of 45', '19 out of 20', '32 out of 46',\n",
       "       '19 out of 85', '3 out of 23', '34 out of 46', '4 out of 27',\n",
       "       '19 out of 27', '35 out of 60', '21 out of 33', '25 out of 52',\n",
       "       '2 out of 24', '24 out of 24', '18 out of 33', '1 out of 10',\n",
       "       '45 out of 60', '60 out of 71', '36 out of 81', '24 out of 60',\n",
       "       '16 out of 38', '8 out of 45', 'Ground out of 16', '8 out of 32',\n",
       "       '10 out of 10', '23 out of 40', '7 out of 18', '8 out of 19',\n",
       "       '6 out of 17', '16 out of 34', 'Ground out of 12', '6 out of 9',\n",
       "       'Ground out of 18', '20 out of 25', '3 out of 22', '9 out of 32',\n",
       "       '26 out of 32', '17 out of 18', '24 out of 25', '19 out of 26',\n",
       "       '17 out of 19', '1 out of 13', '14 out of 30', '8 out of 9',\n",
       "       '3 out of 17', 'Lower Basement out of 3', '12 out of 23',\n",
       "       'Ground out of 9', '1 out of 24', '1 out of 12', '3', 'Ground',\n",
       "       '15 out of 29', '20 out of 20', '14 out of 29',\n",
       "       'Lower Basement out of 1', '13 out of 17', '1 out of 14',\n",
       "       'Upper Basement out of 2', '2 out of 14', '24 out of 31',\n",
       "       '2 out of 32', '2 out of 16', '9 out of 13', '1 out of 11',\n",
       "       '6 out of 29', '9 out of 9', '28 out of 31', '1 out of 15',\n",
       "       'Ground out of 14', '2 out of 11', '19 out of 31', '1 out of 16',\n",
       "       '25 out of 32', '11 out of 16', '11 out of 17',\n",
       "       'Upper Basement out of 3', '4 out of 24', '1 out of 19',\n",
       "       '7 out of 30', '16 out of 19', 'Upper Basement out of 5',\n",
       "       'Ground out of 13', '2 out of 25', '23 out of 30', '4 out of 30',\n",
       "       '13 out of 25', '23 out of 35', 'Ground out of 10', '5 out of 34',\n",
       "       '20 out of 35', '1', '4 out of 31', '4 out of 26', '24 out of 33',\n",
       "       '4 out of 17', '1 out of 35', '11 out of 35', 'Ground out of 15',\n",
       "       'Ground out of 27', '15 out of 30', '12 out of 30', '23 out of 34'],\n",
       "      dtype=object)"
      ]
     },
     "execution_count": 8,
     "metadata": {},
     "output_type": "execute_result"
    }
   ],
   "source": [
    "df.Floor.unique()"
   ]
  },
  {
   "cell_type": "code",
   "execution_count": 9,
   "id": "7898a5b7",
   "metadata": {
    "scrolled": true
   },
   "outputs": [
    {
     "data": {
      "text/html": [
       "<div>\n",
       "<style scoped>\n",
       "    .dataframe tbody tr th:only-of-type {\n",
       "        vertical-align: middle;\n",
       "    }\n",
       "\n",
       "    .dataframe tbody tr th {\n",
       "        vertical-align: top;\n",
       "    }\n",
       "\n",
       "    .dataframe thead th {\n",
       "        text-align: right;\n",
       "    }\n",
       "</style>\n",
       "<table border=\"1\" class=\"dataframe\">\n",
       "  <thead>\n",
       "    <tr style=\"text-align: right;\">\n",
       "      <th></th>\n",
       "      <th>Posted On</th>\n",
       "      <th>BHK</th>\n",
       "      <th>Rent</th>\n",
       "      <th>Size</th>\n",
       "      <th>Floor</th>\n",
       "      <th>Area Type</th>\n",
       "      <th>Area Locality</th>\n",
       "      <th>City</th>\n",
       "      <th>Furnishing Status</th>\n",
       "      <th>Tenant Preferred</th>\n",
       "      <th>Bathroom</th>\n",
       "      <th>Point of Contact</th>\n",
       "      <th>Rental Floor</th>\n",
       "      <th>Total Number of Floor</th>\n",
       "    </tr>\n",
       "  </thead>\n",
       "  <tbody>\n",
       "    <tr>\n",
       "      <th>614</th>\n",
       "      <td>2022-04-28</td>\n",
       "      <td>1</td>\n",
       "      <td>30000</td>\n",
       "      <td>570</td>\n",
       "      <td>Ground out of 3</td>\n",
       "      <td>Carpet Area</td>\n",
       "      <td>Kurla West</td>\n",
       "      <td>Mumbai</td>\n",
       "      <td>Unfurnished</td>\n",
       "      <td>Bachelors/Family</td>\n",
       "      <td>1</td>\n",
       "      <td>Contact Owner</td>\n",
       "      <td>Ground</td>\n",
       "      <td>3</td>\n",
       "    </tr>\n",
       "    <tr>\n",
       "      <th>1860</th>\n",
       "      <td>2022-07-04</td>\n",
       "      <td>2</td>\n",
       "      <td>15000</td>\n",
       "      <td>850</td>\n",
       "      <td>Ground out of 3</td>\n",
       "      <td>Super Area</td>\n",
       "      <td>Horamavu</td>\n",
       "      <td>Bangalore</td>\n",
       "      <td>Semi-Furnished</td>\n",
       "      <td>Bachelors/Family</td>\n",
       "      <td>2</td>\n",
       "      <td>Contact Owner</td>\n",
       "      <td>Ground</td>\n",
       "      <td>3</td>\n",
       "    </tr>\n",
       "    <tr>\n",
       "      <th>4457</th>\n",
       "      <td>2022-07-06</td>\n",
       "      <td>4</td>\n",
       "      <td>400000</td>\n",
       "      <td>7000</td>\n",
       "      <td>Lower Basement out of 2</td>\n",
       "      <td>Carpet Area</td>\n",
       "      <td>Jubilee Hills</td>\n",
       "      <td>Hyderabad</td>\n",
       "      <td>Semi-Furnished</td>\n",
       "      <td>Bachelors/Family</td>\n",
       "      <td>6</td>\n",
       "      <td>Contact Agent</td>\n",
       "      <td>Lower Basement</td>\n",
       "      <td>2</td>\n",
       "    </tr>\n",
       "    <tr>\n",
       "      <th>3190</th>\n",
       "      <td>2022-06-18</td>\n",
       "      <td>1</td>\n",
       "      <td>5000</td>\n",
       "      <td>350</td>\n",
       "      <td>Ground out of 1</td>\n",
       "      <td>Super Area</td>\n",
       "      <td>Kolathur</td>\n",
       "      <td>Chennai</td>\n",
       "      <td>Unfurnished</td>\n",
       "      <td>Bachelors/Family</td>\n",
       "      <td>1</td>\n",
       "      <td>Contact Owner</td>\n",
       "      <td>Ground</td>\n",
       "      <td>1</td>\n",
       "    </tr>\n",
       "    <tr>\n",
       "      <th>4273</th>\n",
       "      <td>2022-05-20</td>\n",
       "      <td>3</td>\n",
       "      <td>14000</td>\n",
       "      <td>1000</td>\n",
       "      <td>1 out of 2</td>\n",
       "      <td>Super Area</td>\n",
       "      <td>Malakpet, NH 9</td>\n",
       "      <td>Hyderabad</td>\n",
       "      <td>Unfurnished</td>\n",
       "      <td>Bachelors/Family</td>\n",
       "      <td>2</td>\n",
       "      <td>Contact Owner</td>\n",
       "      <td>1</td>\n",
       "      <td>2</td>\n",
       "    </tr>\n",
       "  </tbody>\n",
       "</table>\n",
       "</div>"
      ],
      "text/plain": [
       "      Posted On  BHK    Rent  Size                    Floor    Area Type  \\\n",
       "614  2022-04-28    1   30000   570          Ground out of 3  Carpet Area   \n",
       "1860 2022-07-04    2   15000   850          Ground out of 3   Super Area   \n",
       "4457 2022-07-06    4  400000  7000  Lower Basement out of 2  Carpet Area   \n",
       "3190 2022-06-18    1    5000   350          Ground out of 1   Super Area   \n",
       "4273 2022-05-20    3   14000  1000               1 out of 2   Super Area   \n",
       "\n",
       "       Area Locality       City Furnishing Status  Tenant Preferred  Bathroom  \\\n",
       "614       Kurla West     Mumbai       Unfurnished  Bachelors/Family         1   \n",
       "1860        Horamavu  Bangalore    Semi-Furnished  Bachelors/Family         2   \n",
       "4457   Jubilee Hills  Hyderabad    Semi-Furnished  Bachelors/Family         6   \n",
       "3190        Kolathur    Chennai       Unfurnished  Bachelors/Family         1   \n",
       "4273  Malakpet, NH 9  Hyderabad       Unfurnished  Bachelors/Family         2   \n",
       "\n",
       "     Point of Contact    Rental Floor Total Number of Floor  \n",
       "614     Contact Owner          Ground                     3  \n",
       "1860    Contact Owner          Ground                     3  \n",
       "4457    Contact Agent  Lower Basement                     2  \n",
       "3190    Contact Owner          Ground                     1  \n",
       "4273    Contact Owner               1                     2  "
      ]
     },
     "execution_count": 9,
     "metadata": {},
     "output_type": "execute_result"
    }
   ],
   "source": [
    "df[\"Rental Floor\"] = df[\"Floor\"].apply(lambda x: x.split(\" out of \")[0])\n",
    "df[\"Total Number of Floor\"] = df[\"Floor\"].apply(lambda x: x.split(\" out of \")[-1])\n",
    "df.sample(5)"
   ]
  },
  {
   "cell_type": "code",
   "execution_count": 10,
   "id": "32c541ba",
   "metadata": {},
   "outputs": [
    {
     "data": {
      "text/plain": [
       "array(['Ground', '1', '2', '4', '3', '5', '7', '8', 'Upper Basement',\n",
       "       '11', 'Lower Basement', '6', '14', '43', '13', '18', '17', '9',\n",
       "       '19', '60', '34', '12', '26', '25', '53', '16', '10', '39', '32',\n",
       "       '47', '28', '20', '15', '65', '40', '37', '22', '21', '30', '35',\n",
       "       '33', '44', '41', '46', '27', '45', '48', '50', '24', '23', '29',\n",
       "       '49', '36', '76'], dtype=object)"
      ]
     },
     "execution_count": 10,
     "metadata": {},
     "output_type": "execute_result"
    }
   ],
   "source": [
    "df[\"Rental Floor\"].unique()"
   ]
  },
  {
   "cell_type": "code",
   "execution_count": 11,
   "id": "78e2e852",
   "metadata": {},
   "outputs": [
    {
     "data": {
      "text/plain": [
       "array(['2', '3', '1', '4', '5', '14', '8', '6', '19', '10', '7', '13',\n",
       "       '78', '18', '12', '24', '31', '21', '23', '20', '9', '22', '58',\n",
       "       '16', '66', '48', '40', '44', '42', '41', '60', '32', '30', '29',\n",
       "       '89', '15', '11', '28', '17', '45', '35', '75', '38', '51', '43',\n",
       "       '25', '27', '26', '76', '36', '37', '55', '68', '77', '50', '59',\n",
       "       '62', '39', '52', '54', '33', '46', '85', '71', '81', '34',\n",
       "       'Ground'], dtype=object)"
      ]
     },
     "execution_count": 11,
     "metadata": {},
     "output_type": "execute_result"
    }
   ],
   "source": [
    "df[\"Total Number of Floor\"].unique()"
   ]
  },
  {
   "cell_type": "code",
   "execution_count": 12,
   "id": "3a98453a",
   "metadata": {},
   "outputs": [],
   "source": [
    "df[\"Rental Floor\"] = df[\"Rental Floor\"].replace([\"Ground\", \"Upper Basement\", \"Lower Basement\"], [0, -1, -2]).astype(int)\n",
    "df[\"Total Number of Floor\"] = df[\"Total Number of Floor\"].replace(\"Ground\", 0).astype(int)"
   ]
  },
  {
   "cell_type": "code",
   "execution_count": 13,
   "id": "ba824ba0",
   "metadata": {},
   "outputs": [
    {
     "data": {
      "text/html": [
       "<div>\n",
       "<style scoped>\n",
       "    .dataframe tbody tr th:only-of-type {\n",
       "        vertical-align: middle;\n",
       "    }\n",
       "\n",
       "    .dataframe tbody tr th {\n",
       "        vertical-align: top;\n",
       "    }\n",
       "\n",
       "    .dataframe thead th {\n",
       "        text-align: right;\n",
       "    }\n",
       "</style>\n",
       "<table border=\"1\" class=\"dataframe\">\n",
       "  <thead>\n",
       "    <tr style=\"text-align: right;\">\n",
       "      <th></th>\n",
       "      <th>Posted On</th>\n",
       "      <th>BHK</th>\n",
       "      <th>Rent</th>\n",
       "      <th>Size</th>\n",
       "      <th>Area Type</th>\n",
       "      <th>Area Locality</th>\n",
       "      <th>City</th>\n",
       "      <th>Furnishing Status</th>\n",
       "      <th>Tenant Preferred</th>\n",
       "      <th>Bathroom</th>\n",
       "      <th>Point of Contact</th>\n",
       "      <th>Rental Floor</th>\n",
       "      <th>Total Number of Floor</th>\n",
       "    </tr>\n",
       "  </thead>\n",
       "  <tbody>\n",
       "    <tr>\n",
       "      <th>3172</th>\n",
       "      <td>2022-05-01</td>\n",
       "      <td>2</td>\n",
       "      <td>10000</td>\n",
       "      <td>898</td>\n",
       "      <td>Super Area</td>\n",
       "      <td>Kalavakkam</td>\n",
       "      <td>Chennai</td>\n",
       "      <td>Semi-Furnished</td>\n",
       "      <td>Family</td>\n",
       "      <td>2</td>\n",
       "      <td>Contact Owner</td>\n",
       "      <td>7</td>\n",
       "      <td>14</td>\n",
       "    </tr>\n",
       "  </tbody>\n",
       "</table>\n",
       "</div>"
      ],
      "text/plain": [
       "      Posted On  BHK   Rent  Size   Area Type Area Locality     City  \\\n",
       "3172 2022-05-01    2  10000   898  Super Area    Kalavakkam  Chennai   \n",
       "\n",
       "     Furnishing Status Tenant Preferred  Bathroom Point of Contact  \\\n",
       "3172    Semi-Furnished           Family         2    Contact Owner   \n",
       "\n",
       "      Rental Floor  Total Number of Floor  \n",
       "3172             7                     14  "
      ]
     },
     "execution_count": 13,
     "metadata": {},
     "output_type": "execute_result"
    }
   ],
   "source": [
    "df.drop(columns=\"Floor\", inplace=True)\n",
    "df.sample()"
   ]
  },
  {
   "cell_type": "markdown",
   "id": "b2ab8589",
   "metadata": {},
   "source": [
    "#### Floor Distribution"
   ]
  },
  {
   "cell_type": "code",
   "execution_count": 14,
   "id": "8258eec7",
   "metadata": {
    "scrolled": false
   },
   "outputs": [
    {
     "data": {
      "image/png": "[encoded data removed]",
      "text/plain": [
       "<Figure size 1200x700 with 2 Axes>"
      ]
     },
     "metadata": {},
     "output_type": "display_data"
    }
   ],
   "source": [
    "num_var = [\"Rental Floor\", \"Total Number of Floor\"]\n",
    "fig, axes = plt.subplots(1, 2, figsize=(12,7))\n",
    "for num, ax in zip(num_var, axes.flatten()):\n",
    "    sns.histplot(x=num, data=df, ax=ax)"
   ]
  },
  {
   "cell_type": "markdown",
   "id": "98463b1b",
   "metadata": {},
   "source": [
    "### Categorical variable"
   ]
  },
  {
   "cell_type": "code",
   "execution_count": 15,
   "id": "7c5286b1",
   "metadata": {},
   "outputs": [
    {
     "data": {
      "image/png": "[encoded data removed]",
      "text/plain": [
       "<Figure size 1200x1000 with 4 Axes>"
      ]
     },
     "metadata": {},
     "output_type": "display_data"
    }
   ],
   "source": [
    "cat_var = [\"Area Type\", \"Furnishing Status\", \"Tenant Preferred\", \"Point of Contact\"]\n",
    "fig, axes = plt.subplots(2, 2, figsize=(12,10))\n",
    "for cat, ax in zip(cat_var, axes.flatten()):\n",
    "    sns.countplot(x=cat, data=df, ax=ax)"
   ]
  },
  {
   "cell_type": "code",
   "execution_count": 16,
   "id": "f3819290",
   "metadata": {},
   "outputs": [
    {
     "name": "stdout",
     "output_type": "stream",
     "text": [
      "Super Area     2446\n",
      "Carpet Area    2298\n",
      "Built Area        2\n",
      "Name: Area Type, dtype: int64\n",
      "===================================\n",
      "Contact Owner      3216\n",
      "Contact Agent      1529\n",
      "Contact Builder       1\n",
      "Name: Point of Contact, dtype: int64\n",
      "===================================\n"
     ]
    }
   ],
   "source": [
    "for col in df[[\"Area Type\", \"Point of Contact\"]]:\n",
    "    print(df[col].value_counts())\n",
    "    print(\"=\"*35)"
   ]
  },
  {
   "cell_type": "markdown",
   "id": "e79d588e",
   "metadata": {},
   "source": [
    "In the data set, three variables are defined as Area Types. These are the Super Area, the Carpet Area and the Build Area. Since Built Area and Super Area have a closer definition and the value of Built Area is only two, we can accept it as Super Area. Also in the Point of Contact column there are three variables and one of them has only one value. We can accept a Contact Author as a Contact Owner this way we can simplify data collection."
   ]
  },
  {
   "cell_type": "code",
   "execution_count": 17,
   "id": "15f53c57",
   "metadata": {},
   "outputs": [],
   "source": [
    "df.replace(to_replace=[\"Built Area\", \"Contact Builder\"], \n",
    "           value=[\"Super Area\", \"Contact Owner\"], inplace=True)"
   ]
  },
  {
   "cell_type": "markdown",
   "id": "12e2b427",
   "metadata": {},
   "source": [
    "### Total Number of Rental in city"
   ]
  },
  {
   "cell_type": "code",
   "execution_count": 18,
   "id": "25d6449d",
   "metadata": {},
   "outputs": [
    {
     "data": {
      "text/plain": [
       "Text(0.5, 1.0, 'Total Number of Rental Houses in Cities')"
      ]
     },
     "execution_count": 18,
     "metadata": {},
     "output_type": "execute_result"
    },
    {
     "data": {
      "image/png": "[encoded data removed]",
      "text/plain": [
       "<Figure size 640x480 with 1 Axes>"
      ]
     },
     "metadata": {},
     "output_type": "display_data"
    }
   ],
   "source": [
    "sns.countplot(x=\"City\", data=df)\n",
    "plt.title(\"Total Number of Rental Houses in Cities\")"
   ]
  },
  {
   "cell_type": "markdown",
   "id": "05380d47",
   "metadata": {},
   "source": [
    "### Number of Room"
   ]
  },
  {
   "cell_type": "code",
   "execution_count": 19,
   "id": "1f5ed09a",
   "metadata": {
    "scrolled": false
   },
   "outputs": [
    {
     "data": {
      "image/png": "[encoded data removed]",
      "text/plain": [
       "<Figure size 1200x700 with 2 Axes>"
      ]
     },
     "metadata": {},
     "output_type": "display_data"
    }
   ],
   "source": [
    "cat_var = [\"BHK\", \"Bathroom\"]\n",
    "fig, axes = plt.subplots(1, 2, figsize=(12,7))\n",
    "for cat, ax in zip(cat_var, axes.flatten()):\n",
    "    sns.histplot(x=cat, data=df, ax=ax)"
   ]
  },
  {
   "cell_type": "markdown",
   "id": "e78d0f72",
   "metadata": {},
   "source": [
    "### Area multiple"
   ]
  },
  {
   "cell_type": "code",
   "execution_count": 20,
   "id": "e83741da",
   "metadata": {},
   "outputs": [
    {
     "data": {
      "text/html": [
       "<div>\n",
       "<style scoped>\n",
       "    .dataframe tbody tr th:only-of-type {\n",
       "        vertical-align: middle;\n",
       "    }\n",
       "\n",
       "    .dataframe tbody tr th {\n",
       "        vertical-align: top;\n",
       "    }\n",
       "\n",
       "    .dataframe thead th {\n",
       "        text-align: right;\n",
       "    }\n",
       "</style>\n",
       "<table border=\"1\" class=\"dataframe\">\n",
       "  <thead>\n",
       "    <tr style=\"text-align: right;\">\n",
       "      <th></th>\n",
       "      <th>Area Type</th>\n",
       "      <th>BHK</th>\n",
       "      <th>Rent</th>\n",
       "      <th>Size</th>\n",
       "      <th>Bathroom</th>\n",
       "      <th>Rental Floor</th>\n",
       "      <th>Total Number of Floor</th>\n",
       "    </tr>\n",
       "  </thead>\n",
       "  <tbody>\n",
       "    <tr>\n",
       "      <th>0</th>\n",
       "      <td>Carpet Area</td>\n",
       "      <td>2.012484</td>\n",
       "      <td>34236.268414</td>\n",
       "      <td>838.001248</td>\n",
       "      <td>1.987516</td>\n",
       "      <td>4.308365</td>\n",
       "      <td>8.796504</td>\n",
       "    </tr>\n",
       "    <tr>\n",
       "      <th>1</th>\n",
       "      <td>Super Area</td>\n",
       "      <td>2.017787</td>\n",
       "      <td>15827.197628</td>\n",
       "      <td>933.087945</td>\n",
       "      <td>1.982213</td>\n",
       "      <td>1.777668</td>\n",
       "      <td>3.970356</td>\n",
       "    </tr>\n",
       "  </tbody>\n",
       "</table>\n",
       "</div>"
      ],
      "text/plain": [
       "     Area Type       BHK          Rent        Size  Bathroom  Rental Floor  \\\n",
       "0  Carpet Area  2.012484  34236.268414  838.001248  1.987516      4.308365   \n",
       "1   Super Area  2.017787  15827.197628  933.087945  1.982213      1.777668   \n",
       "\n",
       "   Total Number of Floor  \n",
       "0               8.796504  \n",
       "1               3.970356  "
      ]
     },
     "execution_count": 20,
     "metadata": {},
     "output_type": "execute_result"
    }
   ],
   "source": [
    "area_mean = df.query(\"BHK + Bathroom == 4\").groupby(\"Area Type\", as_index=False).mean()\n",
    "area_mean"
   ]
  },
  {
   "cell_type": "code",
   "execution_count": 21,
   "id": "114d7a73",
   "metadata": {},
   "outputs": [],
   "source": [
    "carpet_area_size = area_mean.loc[0, \"Size\"]\n",
    "super_area_size = area_mean.loc[1, \"Size\"]\n",
    "area_per_multi = (super_area_size - carpet_area_size) / carpet_area_size + 1 #area prcentage multiplier"
   ]
  },
  {
   "cell_type": "code",
   "execution_count": 22,
   "id": "0f2d20b9",
   "metadata": {},
   "outputs": [
    {
     "data": {
      "text/plain": [
       "1.1134684422029848"
      ]
     },
     "execution_count": 22,
     "metadata": {},
     "output_type": "execute_result"
    }
   ],
   "source": [
    "area_per_multi"
   ]
  },
  {
   "cell_type": "code",
   "execution_count": 23,
   "id": "fe5cd21b",
   "metadata": {},
   "outputs": [],
   "source": [
    "df[\"Fixed Size\"] = df.query(\"`Area Type` == 'Carpet Area'\")[\"Size\"].apply(lambda x: x * area_per_multi)\n",
    "df[\"Fixed Size\"].fillna(df[\"Size\"], inplace=True)"
   ]
  },
  {
   "cell_type": "markdown",
   "id": "937559de",
   "metadata": {},
   "source": [
    "Unit ukuran dasar dalam pembelian dan sewa real estat adalah harga sewa kaki persegi. Oleh karena itu area dengan tipe 'Area Karpet' telah dikonversi menjadi tipe 'Area Super'. Saat melakukan konversi ini, pengganda yang dibuat dengan membagi perbedaan di area tipe rumah serupa digunakan."
   ]
  },
  {
   "cell_type": "code",
   "execution_count": 24,
   "id": "4a881f68",
   "metadata": {},
   "outputs": [
    {
     "data": {
      "text/html": [
       "<div>\n",
       "<style scoped>\n",
       "    .dataframe tbody tr th:only-of-type {\n",
       "        vertical-align: middle;\n",
       "    }\n",
       "\n",
       "    .dataframe tbody tr th {\n",
       "        vertical-align: top;\n",
       "    }\n",
       "\n",
       "    .dataframe thead th {\n",
       "        text-align: right;\n",
       "    }\n",
       "</style>\n",
       "<table border=\"1\" class=\"dataframe\">\n",
       "  <thead>\n",
       "    <tr style=\"text-align: right;\">\n",
       "      <th></th>\n",
       "      <th>Posted On</th>\n",
       "      <th>BHK</th>\n",
       "      <th>Rent</th>\n",
       "      <th>Size</th>\n",
       "      <th>Area Type</th>\n",
       "      <th>Area Locality</th>\n",
       "      <th>City</th>\n",
       "      <th>Furnishing Status</th>\n",
       "      <th>Tenant Preferred</th>\n",
       "      <th>Bathroom</th>\n",
       "      <th>Point of Contact</th>\n",
       "      <th>Rental Floor</th>\n",
       "      <th>Total Number of Floor</th>\n",
       "      <th>Fixed Size</th>\n",
       "    </tr>\n",
       "  </thead>\n",
       "  <tbody>\n",
       "    <tr>\n",
       "      <th>0</th>\n",
       "      <td>2022-05-18</td>\n",
       "      <td>2</td>\n",
       "      <td>10000</td>\n",
       "      <td>1100</td>\n",
       "      <td>Super Area</td>\n",
       "      <td>Bandel</td>\n",
       "      <td>Kolkata</td>\n",
       "      <td>Unfurnished</td>\n",
       "      <td>Bachelors/Family</td>\n",
       "      <td>2</td>\n",
       "      <td>Contact Owner</td>\n",
       "      <td>0</td>\n",
       "      <td>2</td>\n",
       "      <td>1100.000000</td>\n",
       "    </tr>\n",
       "    <tr>\n",
       "      <th>1</th>\n",
       "      <td>2022-05-13</td>\n",
       "      <td>2</td>\n",
       "      <td>20000</td>\n",
       "      <td>800</td>\n",
       "      <td>Super Area</td>\n",
       "      <td>Phool Bagan, Kankurgachi</td>\n",
       "      <td>Kolkata</td>\n",
       "      <td>Semi-Furnished</td>\n",
       "      <td>Bachelors/Family</td>\n",
       "      <td>1</td>\n",
       "      <td>Contact Owner</td>\n",
       "      <td>1</td>\n",
       "      <td>3</td>\n",
       "      <td>800.000000</td>\n",
       "    </tr>\n",
       "    <tr>\n",
       "      <th>2</th>\n",
       "      <td>2022-05-16</td>\n",
       "      <td>2</td>\n",
       "      <td>17000</td>\n",
       "      <td>1000</td>\n",
       "      <td>Super Area</td>\n",
       "      <td>Salt Lake City Sector 2</td>\n",
       "      <td>Kolkata</td>\n",
       "      <td>Semi-Furnished</td>\n",
       "      <td>Bachelors/Family</td>\n",
       "      <td>1</td>\n",
       "      <td>Contact Owner</td>\n",
       "      <td>1</td>\n",
       "      <td>3</td>\n",
       "      <td>1000.000000</td>\n",
       "    </tr>\n",
       "    <tr>\n",
       "      <th>3</th>\n",
       "      <td>2022-07-04</td>\n",
       "      <td>2</td>\n",
       "      <td>10000</td>\n",
       "      <td>800</td>\n",
       "      <td>Super Area</td>\n",
       "      <td>Dumdum Park</td>\n",
       "      <td>Kolkata</td>\n",
       "      <td>Unfurnished</td>\n",
       "      <td>Bachelors/Family</td>\n",
       "      <td>1</td>\n",
       "      <td>Contact Owner</td>\n",
       "      <td>1</td>\n",
       "      <td>2</td>\n",
       "      <td>800.000000</td>\n",
       "    </tr>\n",
       "    <tr>\n",
       "      <th>4</th>\n",
       "      <td>2022-05-09</td>\n",
       "      <td>2</td>\n",
       "      <td>7500</td>\n",
       "      <td>850</td>\n",
       "      <td>Carpet Area</td>\n",
       "      <td>South Dum Dum</td>\n",
       "      <td>Kolkata</td>\n",
       "      <td>Unfurnished</td>\n",
       "      <td>Bachelors</td>\n",
       "      <td>1</td>\n",
       "      <td>Contact Owner</td>\n",
       "      <td>1</td>\n",
       "      <td>2</td>\n",
       "      <td>946.448176</td>\n",
       "    </tr>\n",
       "  </tbody>\n",
       "</table>\n",
       "</div>"
      ],
      "text/plain": [
       "   Posted On  BHK   Rent  Size    Area Type             Area Locality  \\\n",
       "0 2022-05-18    2  10000  1100   Super Area                    Bandel   \n",
       "1 2022-05-13    2  20000   800   Super Area  Phool Bagan, Kankurgachi   \n",
       "2 2022-05-16    2  17000  1000   Super Area   Salt Lake City Sector 2   \n",
       "3 2022-07-04    2  10000   800   Super Area               Dumdum Park   \n",
       "4 2022-05-09    2   7500   850  Carpet Area             South Dum Dum   \n",
       "\n",
       "      City Furnishing Status  Tenant Preferred  Bathroom Point of Contact  \\\n",
       "0  Kolkata       Unfurnished  Bachelors/Family         2    Contact Owner   \n",
       "1  Kolkata    Semi-Furnished  Bachelors/Family         1    Contact Owner   \n",
       "2  Kolkata    Semi-Furnished  Bachelors/Family         1    Contact Owner   \n",
       "3  Kolkata       Unfurnished  Bachelors/Family         1    Contact Owner   \n",
       "4  Kolkata       Unfurnished         Bachelors         1    Contact Owner   \n",
       "\n",
       "   Rental Floor  Total Number of Floor   Fixed Size  \n",
       "0             0                      2  1100.000000  \n",
       "1             1                      3   800.000000  \n",
       "2             1                      3  1000.000000  \n",
       "3             1                      2   800.000000  \n",
       "4             1                      2   946.448176  "
      ]
     },
     "execution_count": 24,
     "metadata": {},
     "output_type": "execute_result"
    }
   ],
   "source": [
    "df.head()"
   ]
  },
  {
   "cell_type": "code",
   "execution_count": 25,
   "id": "871335ee",
   "metadata": {},
   "outputs": [],
   "source": [
    "df.drop(columns=\"Size\", inplace=True)"
   ]
  },
  {
   "cell_type": "markdown",
   "id": "ff35bd55",
   "metadata": {},
   "source": [
    "### Time Effect"
   ]
  },
  {
   "cell_type": "code",
   "execution_count": 26,
   "id": "c98cd361",
   "metadata": {
    "scrolled": false
   },
   "outputs": [
    {
     "data": {
      "text/plain": [
       "<AxesSubplot:xlabel='Posted On', ylabel='Rent'>"
      ]
     },
     "execution_count": 26,
     "metadata": {},
     "output_type": "execute_result"
    },
    {
     "data": {
      "image/png": "[encoded data removed]",
      "text/plain": [
       "<Figure size 640x480 with 1 Axes>"
      ]
     },
     "metadata": {},
     "output_type": "display_data"
    }
   ],
   "source": [
    "sns.scatterplot(x=\"Posted On\", y=\"Rent\", data=df)"
   ]
  },
  {
   "cell_type": "code",
   "execution_count": 27,
   "id": "32ed9975",
   "metadata": {},
   "outputs": [
    {
     "data": {
      "text/plain": [
       "<AxesSubplot:xlabel='Rent', ylabel='Count'>"
      ]
     },
     "execution_count": 27,
     "metadata": {},
     "output_type": "execute_result"
    },
    {
     "data": {
      "image/png": "[encoded data removed]",
      "text/plain": [
       "<Figure size 640x480 with 1 Axes>"
      ]
     },
     "metadata": {},
     "output_type": "display_data"
    }
   ],
   "source": [
    "sns.histplot(x=\"Rent\", data=df)"
   ]
  },
  {
   "cell_type": "markdown",
   "id": "bef62365",
   "metadata": {},
   "source": [
    "#### Outlier"
   ]
  },
  {
   "cell_type": "code",
   "execution_count": 29,
   "id": "c43864e8",
   "metadata": {},
   "outputs": [],
   "source": [
    "class Interval():\n",
    "    \n",
    "    def __init__(self, feature):\n",
    "        self.mean = feature.mean()\n",
    "        self.sd = feature.std()\n",
    "        self.interval_range = [1.5, 2, 2.5, 3, 3.5, 4]\n",
    "    \n",
    "    def Upper_Interval(self):\n",
    "        for interval in self.interval_range:\n",
    "            upper_interval = self.mean + interval * self.sd\n",
    "            upper_interval = np.round(upper_interval, 2)\n",
    "            print(f\"Upper Interval range {interval} : {upper_interval}\")\n",
    "            \n",
    "    def Lower_Interval(self):\n",
    "        for interval in self.interval_range:\n",
    "            lower_interval = self.mean - interval * self.sd\n",
    "            lower_interval = np.round(lower_interval, 2)\n",
    "            print(f\"Lower Interval range {interval} : {lower_interval}\")\n",
    "            \n",
    "class Best_Interval(Interval):\n",
    "    def __init__(self, feature):\n",
    "        Interval.__init__(self, feature)"
   ]
  },
  {
   "cell_type": "code",
   "execution_count": 30,
   "id": "4ea92451",
   "metadata": {},
   "outputs": [
    {
     "name": "stdout",
     "output_type": "stream",
     "text": [
      "Upper Interval range 1.5 : 152153.07\n",
      "Upper Interval range 2 : 191206.28\n",
      "Upper Interval range 2.5 : 230259.48\n",
      "Upper Interval range 3 : 269312.69\n",
      "Upper Interval range 3.5 : 308365.9\n",
      "Upper Interval range 4 : 347419.1\n"
     ]
    }
   ],
   "source": [
    "Best_Interval(df.Rent).Upper_Interval()"
   ]
  },
  {
   "cell_type": "code",
   "execution_count": 31,
   "id": "269bd888",
   "metadata": {},
   "outputs": [
    {
     "data": {
      "text/plain": [
       "161"
      ]
     },
     "execution_count": 31,
     "metadata": {},
     "output_type": "execute_result"
    }
   ],
   "source": [
    "len(df.query(\"Rent > 152150\"))"
   ]
  },
  {
   "cell_type": "code",
   "execution_count": 32,
   "id": "60906d60",
   "metadata": {},
   "outputs": [],
   "source": [
    "df = df.drop(df.query(\"Rent > 152150\").index)"
   ]
  },
  {
   "cell_type": "code",
   "execution_count": 33,
   "id": "34066da4",
   "metadata": {},
   "outputs": [
    {
     "name": "stdout",
     "output_type": "stream",
     "text": [
      "Upper Interval range 1.5 : 65470.08\n",
      "Upper Interval range 2 : 78749.71\n",
      "Upper Interval range 2.5 : 92029.35\n",
      "Upper Interval range 3 : 105308.98\n",
      "Upper Interval range 3.5 : 118588.61\n",
      "Upper Interval range 4 : 131868.25\n"
     ]
    }
   ],
   "source": [
    "Best_Interval(df.Rent).Upper_Interval()"
   ]
  },
  {
   "cell_type": "code",
   "execution_count": 34,
   "id": "34995cea",
   "metadata": {},
   "outputs": [
    {
     "data": {
      "text/plain": [
       "<AxesSubplot:xlabel='Rent', ylabel='Count'>"
      ]
     },
     "execution_count": 34,
     "metadata": {},
     "output_type": "execute_result"
    },
    {
     "data": {
      "image/png": "[encoded data removed]",
      "text/plain": [
       "<Figure size 640x480 with 1 Axes>"
      ]
     },
     "metadata": {},
     "output_type": "display_data"
    }
   ],
   "source": [
    "sns.histplot(x=\"Rent\", data=df)"
   ]
  },
  {
   "cell_type": "code",
   "execution_count": 35,
   "id": "f85a0604",
   "metadata": {},
   "outputs": [],
   "source": [
    "df.drop(columns =[\"Area Locality\", \"Posted On\"], inplace = True)"
   ]
  },
  {
   "cell_type": "markdown",
   "id": "c8200a1e",
   "metadata": {},
   "source": [
    "# Model"
   ]
  },
  {
   "cell_type": "code",
   "execution_count": 36,
   "id": "b9c6f2f7",
   "metadata": {},
   "outputs": [],
   "source": [
    "from sklearn.model_selection import train_test_split, GridSearchCV\n",
    "from sklearn.compose import ColumnTransformer\n",
    "from sklearn.pipeline import Pipeline\n",
    "from sklearn.linear_model import LinearRegression, ElasticNet\n",
    "from sklearn.preprocessing import OneHotEncoder, StandardScaler\n",
    "from sklearn.metrics import mean_absolute_error,mean_squared_error"
   ]
  },
  {
   "cell_type": "code",
   "execution_count": 37,
   "id": "d86107fe",
   "metadata": {},
   "outputs": [
    {
     "data": {
      "text/plain": [
       "((3438, 10), (1147, 10))"
      ]
     },
     "execution_count": 37,
     "metadata": {},
     "output_type": "execute_result"
    }
   ],
   "source": [
    "X = df.drop(columns='Rent')\n",
    "y = df['Rent']\n",
    "\n",
    "X_train, X_test, y_train, y_test = train_test_split(X, y, test_size=0.25, random_state=101)\n",
    "X_train.shape, X_test.shape"
   ]
  },
  {
   "cell_type": "code",
   "execution_count": 38,
   "id": "5e761cf5",
   "metadata": {},
   "outputs": [],
   "source": [
    "from jcopml.pipeline import num_pipe, cat_pipe\n",
    "from jcopml.tuning import grid_search_params as gsp\n",
    "\n",
    "from jcopml.feature_importance import mean_score_decrease\n",
    "from jcopml.plot import plot_residual, plot_actual_vs_prediction, plot_roc_curve"
   ]
  },
  {
   "cell_type": "code",
   "execution_count": 39,
   "id": "68bbdaf1",
   "metadata": {
    "scrolled": false
   },
   "outputs": [
    {
     "data": {
      "text/html": [
       "<div>\n",
       "<style scoped>\n",
       "    .dataframe tbody tr th:only-of-type {\n",
       "        vertical-align: middle;\n",
       "    }\n",
       "\n",
       "    .dataframe tbody tr th {\n",
       "        vertical-align: top;\n",
       "    }\n",
       "\n",
       "    .dataframe thead th {\n",
       "        text-align: right;\n",
       "    }\n",
       "</style>\n",
       "<table border=\"1\" class=\"dataframe\">\n",
       "  <thead>\n",
       "    <tr style=\"text-align: right;\">\n",
       "      <th></th>\n",
       "      <th>BHK</th>\n",
       "      <th>Area Type</th>\n",
       "      <th>City</th>\n",
       "      <th>Furnishing Status</th>\n",
       "      <th>Tenant Preferred</th>\n",
       "      <th>Bathroom</th>\n",
       "      <th>Point of Contact</th>\n",
       "      <th>Rental Floor</th>\n",
       "      <th>Total Number of Floor</th>\n",
       "      <th>Fixed Size</th>\n",
       "    </tr>\n",
       "  </thead>\n",
       "  <tbody>\n",
       "    <tr>\n",
       "      <th>2193</th>\n",
       "      <td>3</td>\n",
       "      <td>Carpet Area</td>\n",
       "      <td>Bangalore</td>\n",
       "      <td>Semi-Furnished</td>\n",
       "      <td>Bachelors/Family</td>\n",
       "      <td>3</td>\n",
       "      <td>Contact Owner</td>\n",
       "      <td>18</td>\n",
       "      <td>19</td>\n",
       "      <td>2004.243196</td>\n",
       "    </tr>\n",
       "    <tr>\n",
       "      <th>3714</th>\n",
       "      <td>2</td>\n",
       "      <td>Super Area</td>\n",
       "      <td>Chennai</td>\n",
       "      <td>Unfurnished</td>\n",
       "      <td>Bachelors/Family</td>\n",
       "      <td>2</td>\n",
       "      <td>Contact Owner</td>\n",
       "      <td>0</td>\n",
       "      <td>2</td>\n",
       "      <td>685.000000</td>\n",
       "    </tr>\n",
       "    <tr>\n",
       "      <th>870</th>\n",
       "      <td>2</td>\n",
       "      <td>Carpet Area</td>\n",
       "      <td>Mumbai</td>\n",
       "      <td>Unfurnished</td>\n",
       "      <td>Bachelors/Family</td>\n",
       "      <td>2</td>\n",
       "      <td>Contact Agent</td>\n",
       "      <td>8</td>\n",
       "      <td>16</td>\n",
       "      <td>790.562594</td>\n",
       "    </tr>\n",
       "    <tr>\n",
       "      <th>511</th>\n",
       "      <td>3</td>\n",
       "      <td>Super Area</td>\n",
       "      <td>Kolkata</td>\n",
       "      <td>Semi-Furnished</td>\n",
       "      <td>Bachelors/Family</td>\n",
       "      <td>3</td>\n",
       "      <td>Contact Owner</td>\n",
       "      <td>1</td>\n",
       "      <td>2</td>\n",
       "      <td>900.000000</td>\n",
       "    </tr>\n",
       "    <tr>\n",
       "      <th>3368</th>\n",
       "      <td>2</td>\n",
       "      <td>Carpet Area</td>\n",
       "      <td>Chennai</td>\n",
       "      <td>Unfurnished</td>\n",
       "      <td>Bachelors/Family</td>\n",
       "      <td>1</td>\n",
       "      <td>Contact Owner</td>\n",
       "      <td>0</td>\n",
       "      <td>2</td>\n",
       "      <td>779.427910</td>\n",
       "    </tr>\n",
       "  </tbody>\n",
       "</table>\n",
       "</div>"
      ],
      "text/plain": [
       "      BHK    Area Type       City Furnishing Status  Tenant Preferred  \\\n",
       "2193    3  Carpet Area  Bangalore    Semi-Furnished  Bachelors/Family   \n",
       "3714    2   Super Area    Chennai       Unfurnished  Bachelors/Family   \n",
       "870     2  Carpet Area     Mumbai       Unfurnished  Bachelors/Family   \n",
       "511     3   Super Area    Kolkata    Semi-Furnished  Bachelors/Family   \n",
       "3368    2  Carpet Area    Chennai       Unfurnished  Bachelors/Family   \n",
       "\n",
       "      Bathroom Point of Contact  Rental Floor  Total Number of Floor  \\\n",
       "2193         3    Contact Owner            18                     19   \n",
       "3714         2    Contact Owner             0                      2   \n",
       "870          2    Contact Agent             8                     16   \n",
       "511          3    Contact Owner             1                      2   \n",
       "3368         1    Contact Owner             0                      2   \n",
       "\n",
       "       Fixed Size  \n",
       "2193  2004.243196  \n",
       "3714   685.000000  \n",
       "870    790.562594  \n",
       "511    900.000000  \n",
       "3368   779.427910  "
      ]
     },
     "execution_count": 39,
     "metadata": {},
     "output_type": "execute_result"
    }
   ],
   "source": [
    "X_train.head()"
   ]
  },
  {
   "cell_type": "code",
   "execution_count": 40,
   "id": "5a445b53",
   "metadata": {},
   "outputs": [],
   "source": [
    "from xgboost import XGBRegressor\n",
    "from sklearn.tree import DecisionTreeRegressor\n",
    "from jcopml.tuning import random_search_params as rsp\n",
    "from sklearn.model_selection import RandomizedSearchCV"
   ]
  },
  {
   "cell_type": "code",
   "execution_count": 41,
   "id": "b42a7a9e",
   "metadata": {},
   "outputs": [
    {
     "name": "stdout",
     "output_type": "stream",
     "text": [
      "Fitting 3 folds for each of 50 candidates, totalling 150 fits\n",
      "{'algo__colsample_bytree': 0.5537270296031848, 'algo__gamma': 3, 'algo__learning_rate': 0.042002268110490584, 'algo__max_depth': 6, 'algo__n_estimators': 146, 'algo__reg_alpha': 0.04205592454730623, 'algo__reg_lambda': 0.2011667060403015, 'algo__subsample': 0.6455785310293218, 'prep__numeric__poly__degree': 1, 'prep__numeric__poly__interaction_only': False}\n",
      "0.9063438221957829 0.7566687619181246 0.7848958573632298\n"
     ]
    }
   ],
   "source": [
    "preprocessor = ColumnTransformer([\n",
    "    ('numeric', num_pipe(scaling='standard',poly=2), [\"BHK\", \"Bathroom\", \"Rental Floor\", \"Total Number of Floor\", \"Fixed Size\"]),\n",
    "    ('categoric', cat_pipe(encoder='onehot'), [\"Area Type\", \"City\", \"Furnishing Status\", \"Tenant Preferred\", \"Point of Contact\"])\n",
    "])\n",
    "\n",
    "pipeline = Pipeline([\n",
    "    ('prep', preprocessor),\n",
    "    ('algo', XGBRegressor())\n",
    "])\n",
    "\n",
    "model = RandomizedSearchCV(pipeline, rsp.xgb_poly_params, n_iter=50, cv=3, n_jobs=-1, verbose=1, random_state=101)\n",
    "model.fit(X_train,y_train)\n",
    "\n",
    "print(model.best_params_)\n",
    "print(model.score(X_train,y_train), model.best_score_, model.score(X_test,y_test))"
   ]
  },
  {
   "cell_type": "code",
   "execution_count": 42,
   "id": "15b68d2a",
   "metadata": {},
   "outputs": [],
   "source": [
    "def predict(model):\n",
    "    pred = model.predict(X_test)\n",
    "    \n",
    "    print('MAE:', mean_absolute_error(y_test, pred))\n",
    "    print('MSE:', mean_squared_error(y_test, pred))\n",
    "    print('RMSE:', np.sqrt(mean_squared_error(y_test, pred)))"
   ]
  },
  {
   "cell_type": "code",
   "execution_count": 43,
   "id": "fde68975",
   "metadata": {},
   "outputs": [
    {
     "name": "stdout",
     "output_type": "stream",
     "text": [
      "MAE: 6813.761614878487\n",
      "MSE: 134183884.76857965\n",
      "RMSE: 11583.776792073457\n"
     ]
    }
   ],
   "source": [
    "predict(model)"
   ]
  },
  {
   "cell_type": "markdown",
   "id": "ee794b75",
   "metadata": {},
   "source": [
    "#### Change Outlier with Interval"
   ]
  },
  {
   "cell_type": "code",
   "execution_count": 44,
   "id": "a4d5d10b",
   "metadata": {},
   "outputs": [
    {
     "data": {
      "text/plain": [
       "<AxesSubplot:xlabel='Rental Floor', ylabel='Count'>"
      ]
     },
     "execution_count": 44,
     "metadata": {},
     "output_type": "execute_result"
    },
    {
     "data": {
      "image/png": "[encoded data removed]",
      "text/plain": [
       "<Figure size 640x480 with 1 Axes>"
      ]
     },
     "metadata": {},
     "output_type": "display_data"
    }
   ],
   "source": [
    "sns.histplot(x=\"Rental Floor\", data=df)"
   ]
  },
  {
   "cell_type": "markdown",
   "id": "527fb73a",
   "metadata": {},
   "source": [
    "#### Rental Floor"
   ]
  },
  {
   "cell_type": "code",
   "execution_count": 45,
   "id": "c61ae0a8",
   "metadata": {
    "scrolled": true
   },
   "outputs": [
    {
     "name": "stdout",
     "output_type": "stream",
     "text": [
      "Upper Interval range 1.5 : 10.11\n",
      "Upper Interval range 2 : 12.46\n",
      "Upper Interval range 2.5 : 14.8\n",
      "Upper Interval range 3 : 17.15\n",
      "Upper Interval range 3.5 : 19.5\n",
      "Upper Interval range 4 : 21.84\n"
     ]
    }
   ],
   "source": [
    "Best_Interval(df[\"Rental Floor\"]).Upper_Interval()"
   ]
  },
  {
   "cell_type": "code",
   "execution_count": 46,
   "id": "d00b6a70",
   "metadata": {},
   "outputs": [
    {
     "data": {
      "text/plain": [
       "45"
      ]
     },
     "execution_count": 46,
     "metadata": {},
     "output_type": "execute_result"
    }
   ],
   "source": [
    "len(df[df[\"Rental Floor\"] > 22])"
   ]
  },
  {
   "cell_type": "code",
   "execution_count": 47,
   "id": "cfe3931a",
   "metadata": {},
   "outputs": [],
   "source": [
    "df[\"Rental Floor\"] = np.where(df[\"Rental Floor\"] > 22, 20, df[\"Rental Floor\"])"
   ]
  },
  {
   "cell_type": "markdown",
   "id": "1f22dd6d",
   "metadata": {},
   "source": [
    "#### Total of Number Floor"
   ]
  },
  {
   "cell_type": "code",
   "execution_count": 48,
   "id": "bb79655e",
   "metadata": {},
   "outputs": [
    {
     "data": {
      "text/plain": [
       "<AxesSubplot:xlabel='Total Number of Floor', ylabel='Count'>"
      ]
     },
     "execution_count": 48,
     "metadata": {},
     "output_type": "execute_result"
    },
    {
     "data": {
      "image/png": "[encoded data removed]",
      "text/plain": [
       "<Figure size 640x480 with 1 Axes>"
      ]
     },
     "metadata": {},
     "output_type": "display_data"
    }
   ],
   "source": [
    "sns.histplot(x=\"Total Number of Floor\", data=df)"
   ]
  },
  {
   "cell_type": "code",
   "execution_count": 49,
   "id": "dcc5eb59",
   "metadata": {},
   "outputs": [
    {
     "name": "stdout",
     "output_type": "stream",
     "text": [
      "Upper Interval range 1.5 : 18.24\n",
      "Upper Interval range 2 : 22.2\n",
      "Upper Interval range 2.5 : 26.17\n",
      "Upper Interval range 3 : 30.13\n",
      "Upper Interval range 3.5 : 34.1\n",
      "Upper Interval range 4 : 38.07\n"
     ]
    }
   ],
   "source": [
    "Best_Interval(df[\"Total Number of Floor\"]).Upper_Interval()"
   ]
  },
  {
   "cell_type": "code",
   "execution_count": 50,
   "id": "ea8bd92c",
   "metadata": {},
   "outputs": [
    {
     "data": {
      "text/html": [
       "<div>\n",
       "<style scoped>\n",
       "    .dataframe tbody tr th:only-of-type {\n",
       "        vertical-align: middle;\n",
       "    }\n",
       "\n",
       "    .dataframe tbody tr th {\n",
       "        vertical-align: top;\n",
       "    }\n",
       "\n",
       "    .dataframe thead th {\n",
       "        text-align: right;\n",
       "    }\n",
       "</style>\n",
       "<table border=\"1\" class=\"dataframe\">\n",
       "  <thead>\n",
       "    <tr style=\"text-align: right;\">\n",
       "      <th></th>\n",
       "      <th>Total Number of Floor</th>\n",
       "    </tr>\n",
       "  </thead>\n",
       "  <tbody>\n",
       "    <tr>\n",
       "      <th>0</th>\n",
       "      <td>2</td>\n",
       "    </tr>\n",
       "    <tr>\n",
       "      <th>1</th>\n",
       "      <td>3</td>\n",
       "    </tr>\n",
       "    <tr>\n",
       "      <th>2</th>\n",
       "      <td>3</td>\n",
       "    </tr>\n",
       "    <tr>\n",
       "      <th>3</th>\n",
       "      <td>2</td>\n",
       "    </tr>\n",
       "    <tr>\n",
       "      <th>4</th>\n",
       "      <td>2</td>\n",
       "    </tr>\n",
       "  </tbody>\n",
       "</table>\n",
       "</div>"
      ],
      "text/plain": [
       "   Total Number of Floor\n",
       "0                      2\n",
       "1                      3\n",
       "2                      3\n",
       "3                      2\n",
       "4                      2"
      ]
     },
     "execution_count": 50,
     "metadata": {},
     "output_type": "execute_result"
    }
   ],
   "source": [
    "df[\"Total Number of Floor\"] = np.where(df[\"Total Number of Floor\"] > 30, 30, df[\"Total Number of Floor\"])\n",
    "df[[\"Total Number of Floor\"]].head()"
   ]
  },
  {
   "cell_type": "markdown",
   "id": "9bf64913",
   "metadata": {},
   "source": [
    "#### Fixed Size"
   ]
  },
  {
   "cell_type": "code",
   "execution_count": 51,
   "id": "63ce5ea1",
   "metadata": {},
   "outputs": [
    {
     "data": {
      "text/plain": [
       "<AxesSubplot:xlabel='Fixed Size', ylabel='Count'>"
      ]
     },
     "execution_count": 51,
     "metadata": {},
     "output_type": "execute_result"
    },
    {
     "data": {
      "image/png": "[encoded data removed]",
      "text/plain": [
       "<Figure size 640x480 with 1 Axes>"
      ]
     },
     "metadata": {},
     "output_type": "display_data"
    }
   ],
   "source": [
    "sns.histplot(x=\"Fixed Size\", data=df)"
   ]
  },
  {
   "cell_type": "code",
   "execution_count": 52,
   "id": "516cd87c",
   "metadata": {},
   "outputs": [
    {
     "data": {
      "text/plain": [
       "59"
      ]
     },
     "execution_count": 52,
     "metadata": {},
     "output_type": "execute_result"
    }
   ],
   "source": [
    "len(df[df[\"Fixed Size\"] > 3000])"
   ]
  },
  {
   "cell_type": "code",
   "execution_count": 53,
   "id": "92c84f5b",
   "metadata": {},
   "outputs": [
    {
     "data": {
      "text/plain": [
       "974.0249864243491"
      ]
     },
     "execution_count": 53,
     "metadata": {},
     "output_type": "execute_result"
    }
   ],
   "source": [
    "df[\"Fixed Size\"].mean()"
   ]
  },
  {
   "cell_type": "code",
   "execution_count": 54,
   "id": "42a12833",
   "metadata": {},
   "outputs": [
    {
     "name": "stdout",
     "output_type": "stream",
     "text": [
      "Upper Interval range 1.5 : 1871.57\n",
      "Upper Interval range 2 : 2170.75\n",
      "Upper Interval range 2.5 : 2469.94\n",
      "Upper Interval range 3 : 2769.12\n",
      "Upper Interval range 3.5 : 3068.3\n",
      "Upper Interval range 4 : 3367.48\n"
     ]
    }
   ],
   "source": [
    "Best_Interval(df[\"Fixed Size\"]).Upper_Interval()"
   ]
  },
  {
   "cell_type": "code",
   "execution_count": 55,
   "id": "3548ec75",
   "metadata": {},
   "outputs": [
    {
     "data": {
      "text/html": [
       "<div>\n",
       "<style scoped>\n",
       "    .dataframe tbody tr th:only-of-type {\n",
       "        vertical-align: middle;\n",
       "    }\n",
       "\n",
       "    .dataframe tbody tr th {\n",
       "        vertical-align: top;\n",
       "    }\n",
       "\n",
       "    .dataframe thead th {\n",
       "        text-align: right;\n",
       "    }\n",
       "</style>\n",
       "<table border=\"1\" class=\"dataframe\">\n",
       "  <thead>\n",
       "    <tr style=\"text-align: right;\">\n",
       "      <th></th>\n",
       "      <th>Fixed Size</th>\n",
       "    </tr>\n",
       "  </thead>\n",
       "  <tbody>\n",
       "    <tr>\n",
       "      <th>0</th>\n",
       "      <td>1100.000000</td>\n",
       "    </tr>\n",
       "    <tr>\n",
       "      <th>1</th>\n",
       "      <td>800.000000</td>\n",
       "    </tr>\n",
       "    <tr>\n",
       "      <th>2</th>\n",
       "      <td>1000.000000</td>\n",
       "    </tr>\n",
       "    <tr>\n",
       "      <th>3</th>\n",
       "      <td>800.000000</td>\n",
       "    </tr>\n",
       "    <tr>\n",
       "      <th>4</th>\n",
       "      <td>946.448176</td>\n",
       "    </tr>\n",
       "  </tbody>\n",
       "</table>\n",
       "</div>"
      ],
      "text/plain": [
       "    Fixed Size\n",
       "0  1100.000000\n",
       "1   800.000000\n",
       "2  1000.000000\n",
       "3   800.000000\n",
       "4   946.448176"
      ]
     },
     "execution_count": 55,
     "metadata": {},
     "output_type": "execute_result"
    }
   ],
   "source": [
    "df[\"Fixed Size\"] = np.where(df[\"Fixed Size\"] > 3100, 3000, df[\"Fixed Size\"])\n",
    "df[[\"Fixed Size\"]].head()"
   ]
  },
  {
   "cell_type": "code",
   "execution_count": 56,
   "id": "52ceb3bb",
   "metadata": {},
   "outputs": [
    {
     "data": {
      "text/html": [
       "<div>\n",
       "<style scoped>\n",
       "    .dataframe tbody tr th:only-of-type {\n",
       "        vertical-align: middle;\n",
       "    }\n",
       "\n",
       "    .dataframe tbody tr th {\n",
       "        vertical-align: top;\n",
       "    }\n",
       "\n",
       "    .dataframe thead th {\n",
       "        text-align: right;\n",
       "    }\n",
       "</style>\n",
       "<table border=\"1\" class=\"dataframe\">\n",
       "  <thead>\n",
       "    <tr style=\"text-align: right;\">\n",
       "      <th></th>\n",
       "      <th>BHK</th>\n",
       "      <th>Rent</th>\n",
       "      <th>Area Type</th>\n",
       "      <th>City</th>\n",
       "      <th>Furnishing Status</th>\n",
       "      <th>Tenant Preferred</th>\n",
       "      <th>Bathroom</th>\n",
       "      <th>Point of Contact</th>\n",
       "      <th>Rental Floor</th>\n",
       "      <th>Total Number of Floor</th>\n",
       "      <th>Fixed Size</th>\n",
       "    </tr>\n",
       "  </thead>\n",
       "  <tbody>\n",
       "    <tr>\n",
       "      <th>0</th>\n",
       "      <td>2</td>\n",
       "      <td>10000</td>\n",
       "      <td>Super Area</td>\n",
       "      <td>Kolkata</td>\n",
       "      <td>Unfurnished</td>\n",
       "      <td>Bachelors/Family</td>\n",
       "      <td>2</td>\n",
       "      <td>Contact Owner</td>\n",
       "      <td>0</td>\n",
       "      <td>2</td>\n",
       "      <td>1100.0</td>\n",
       "    </tr>\n",
       "    <tr>\n",
       "      <th>1</th>\n",
       "      <td>2</td>\n",
       "      <td>20000</td>\n",
       "      <td>Super Area</td>\n",
       "      <td>Kolkata</td>\n",
       "      <td>Semi-Furnished</td>\n",
       "      <td>Bachelors/Family</td>\n",
       "      <td>1</td>\n",
       "      <td>Contact Owner</td>\n",
       "      <td>1</td>\n",
       "      <td>3</td>\n",
       "      <td>800.0</td>\n",
       "    </tr>\n",
       "  </tbody>\n",
       "</table>\n",
       "</div>"
      ],
      "text/plain": [
       "   BHK   Rent   Area Type     City Furnishing Status  Tenant Preferred  \\\n",
       "0    2  10000  Super Area  Kolkata       Unfurnished  Bachelors/Family   \n",
       "1    2  20000  Super Area  Kolkata    Semi-Furnished  Bachelors/Family   \n",
       "\n",
       "   Bathroom Point of Contact  Rental Floor  Total Number of Floor  Fixed Size  \n",
       "0         2    Contact Owner             0                      2      1100.0  \n",
       "1         1    Contact Owner             1                      3       800.0  "
      ]
     },
     "execution_count": 56,
     "metadata": {},
     "output_type": "execute_result"
    }
   ],
   "source": [
    "df.head(2)"
   ]
  },
  {
   "cell_type": "code",
   "execution_count": 57,
   "id": "b54d9516",
   "metadata": {},
   "outputs": [
    {
     "data": {
      "text/plain": [
       "((3438, 10), (1147, 10))"
      ]
     },
     "execution_count": 57,
     "metadata": {},
     "output_type": "execute_result"
    }
   ],
   "source": [
    "X = df.drop(columns='Rent')\n",
    "y = df['Rent']\n",
    "\n",
    "X_train, X_test, y_train, y_test = train_test_split(X, y, test_size=0.25, random_state=101)\n",
    "X_train.shape, X_test.shape"
   ]
  },
  {
   "cell_type": "code",
   "execution_count": 62,
   "id": "3cab353f",
   "metadata": {},
   "outputs": [
    {
     "name": "stdout",
     "output_type": "stream",
     "text": [
      "Fitting 3 folds for each of 50 candidates, totalling 150 fits\n",
      "{'algo__colsample_bytree': 0.9801207188970855, 'algo__gamma': 4, 'algo__learning_rate': 0.035684339040660824, 'algo__max_depth': 8, 'algo__n_estimators': 100, 'algo__reg_alpha': 0.06698997934450121, 'algo__reg_lambda': 2.0263411938932654, 'algo__subsample': 0.3731197930660765, 'prep__numeric__poly__degree': 1, 'prep__numeric__poly__interaction_only': False}\n",
      "0.877333032555047 0.7589115294901347 0.7758320664055968\n"
     ]
    }
   ],
   "source": [
    "preprocessor = ColumnTransformer([\n",
    "    ('numeric', num_pipe(scaling='standard',poly=3), [\"BHK\", \"Bathroom\", \"Rental Floor\", \"Total Number of Floor\", \"Fixed Size\"]),\n",
    "    ('categoric', cat_pipe(encoder='onehot'), [\"Area Type\", \"City\", \"Furnishing Status\", \"Tenant Preferred\", \"Point of Contact\"])\n",
    "])\n",
    "\n",
    "pipeline = Pipeline([\n",
    "    ('prep', preprocessor),\n",
    "    ('algo', XGBRegressor())\n",
    "])\n",
    "\n",
    "model = RandomizedSearchCV(pipeline, rsp.xgb_poly_params, n_iter=50, cv=3, n_jobs=-1, verbose=1, random_state=101)\n",
    "model.fit(X_train,y_train)\n",
    "\n",
    "print(model.best_params_)\n",
    "print(model.score(X_train,y_train), model.best_score_, model.score(X_test,y_test))"
   ]
  },
  {
   "cell_type": "code",
   "execution_count": 59,
   "id": "1ab87103",
   "metadata": {},
   "outputs": [
    {
     "name": "stdout",
     "output_type": "stream",
     "text": [
      "MAE: 6747.9266994911995\n",
      "MSE: 139837958.4954592\n",
      "RMSE: 11825.310080309066\n"
     ]
    }
   ],
   "source": [
    "predict(model)"
   ]
  },
  {
   "cell_type": "code",
   "execution_count": 60,
   "id": "08723c83",
   "metadata": {},
   "outputs": [
    {
     "data": {
      "image/png": "[encoded data removed]",
      "text/plain": [
       "<Figure size 1100x500 with 2 Axes>"
      ]
     },
     "metadata": {},
     "output_type": "display_data"
    }
   ],
   "source": [
    "plot_actual_vs_prediction(X_train, y_train, X_test, y_test, model)"
   ]
  },
  {
   "cell_type": "code",
   "execution_count": 61,
   "id": "78341f49",
   "metadata": {},
   "outputs": [
    {
     "data": {
      "image/png": "[encoded data removed]",
      "text/plain": [
       "<Figure size 1500x500 with 2 Axes>"
      ]
     },
     "metadata": {},
     "output_type": "display_data"
    }
   ],
   "source": [
    "plot_residual(X_train, y_train, X_test, y_test, model, lowess=False)"
   ]
  },
  {
   "cell_type": "markdown",
   "id": "065a11db",
   "metadata": {},
   "source": [
    "## New Prediction"
   ]
  },
  {
   "cell_type": "code",
   "execution_count": 67,
   "id": "b56a5216",
   "metadata": {},
   "outputs": [
    {
     "data": {
      "text/html": [
       "<div>\n",
       "<style scoped>\n",
       "    .dataframe tbody tr th:only-of-type {\n",
       "        vertical-align: middle;\n",
       "    }\n",
       "\n",
       "    .dataframe tbody tr th {\n",
       "        vertical-align: top;\n",
       "    }\n",
       "\n",
       "    .dataframe thead th {\n",
       "        text-align: right;\n",
       "    }\n",
       "</style>\n",
       "<table border=\"1\" class=\"dataframe\">\n",
       "  <thead>\n",
       "    <tr style=\"text-align: right;\">\n",
       "      <th></th>\n",
       "      <th>BHK</th>\n",
       "      <th>Area Type</th>\n",
       "      <th>City</th>\n",
       "      <th>Furnishing Status</th>\n",
       "      <th>Tenant Preferred</th>\n",
       "      <th>Bathroom</th>\n",
       "      <th>Point of Contact</th>\n",
       "      <th>Rental Floor</th>\n",
       "      <th>Total Number of Floor</th>\n",
       "      <th>Fixed Size</th>\n",
       "    </tr>\n",
       "  </thead>\n",
       "  <tbody>\n",
       "    <tr>\n",
       "      <th>2193</th>\n",
       "      <td>3</td>\n",
       "      <td>Carpet Area</td>\n",
       "      <td>Bangalore</td>\n",
       "      <td>Semi-Furnished</td>\n",
       "      <td>Bachelors/Family</td>\n",
       "      <td>3</td>\n",
       "      <td>Contact Owner</td>\n",
       "      <td>18</td>\n",
       "      <td>19</td>\n",
       "      <td>2004.243196</td>\n",
       "    </tr>\n",
       "    <tr>\n",
       "      <th>3714</th>\n",
       "      <td>2</td>\n",
       "      <td>Super Area</td>\n",
       "      <td>Chennai</td>\n",
       "      <td>Unfurnished</td>\n",
       "      <td>Bachelors/Family</td>\n",
       "      <td>2</td>\n",
       "      <td>Contact Owner</td>\n",
       "      <td>0</td>\n",
       "      <td>2</td>\n",
       "      <td>685.000000</td>\n",
       "    </tr>\n",
       "    <tr>\n",
       "      <th>870</th>\n",
       "      <td>2</td>\n",
       "      <td>Carpet Area</td>\n",
       "      <td>Mumbai</td>\n",
       "      <td>Unfurnished</td>\n",
       "      <td>Bachelors/Family</td>\n",
       "      <td>2</td>\n",
       "      <td>Contact Agent</td>\n",
       "      <td>8</td>\n",
       "      <td>16</td>\n",
       "      <td>790.562594</td>\n",
       "    </tr>\n",
       "    <tr>\n",
       "      <th>511</th>\n",
       "      <td>3</td>\n",
       "      <td>Super Area</td>\n",
       "      <td>Kolkata</td>\n",
       "      <td>Semi-Furnished</td>\n",
       "      <td>Bachelors/Family</td>\n",
       "      <td>3</td>\n",
       "      <td>Contact Owner</td>\n",
       "      <td>1</td>\n",
       "      <td>2</td>\n",
       "      <td>900.000000</td>\n",
       "    </tr>\n",
       "    <tr>\n",
       "      <th>3368</th>\n",
       "      <td>2</td>\n",
       "      <td>Carpet Area</td>\n",
       "      <td>Chennai</td>\n",
       "      <td>Unfurnished</td>\n",
       "      <td>Bachelors/Family</td>\n",
       "      <td>1</td>\n",
       "      <td>Contact Owner</td>\n",
       "      <td>0</td>\n",
       "      <td>2</td>\n",
       "      <td>779.427910</td>\n",
       "    </tr>\n",
       "  </tbody>\n",
       "</table>\n",
       "</div>"
      ],
      "text/plain": [
       "      BHK    Area Type       City Furnishing Status  Tenant Preferred  \\\n",
       "2193    3  Carpet Area  Bangalore    Semi-Furnished  Bachelors/Family   \n",
       "3714    2   Super Area    Chennai       Unfurnished  Bachelors/Family   \n",
       "870     2  Carpet Area     Mumbai       Unfurnished  Bachelors/Family   \n",
       "511     3   Super Area    Kolkata    Semi-Furnished  Bachelors/Family   \n",
       "3368    2  Carpet Area    Chennai       Unfurnished  Bachelors/Family   \n",
       "\n",
       "      Bathroom Point of Contact  Rental Floor  Total Number of Floor  \\\n",
       "2193         3    Contact Owner            18                     19   \n",
       "3714         2    Contact Owner             0                      2   \n",
       "870          2    Contact Agent             8                     16   \n",
       "511          3    Contact Owner             1                      2   \n",
       "3368         1    Contact Owner             0                      2   \n",
       "\n",
       "       Fixed Size  \n",
       "2193  2004.243196  \n",
       "3714   685.000000  \n",
       "870    790.562594  \n",
       "511    900.000000  \n",
       "3368   779.427910  "
      ]
     },
     "execution_count": 67,
     "metadata": {},
     "output_type": "execute_result"
    }
   ],
   "source": [
    "X_train.head()"
   ]
  },
  {
   "cell_type": "code",
   "execution_count": 87,
   "id": "492be9b7",
   "metadata": {
    "scrolled": true
   },
   "outputs": [
    {
     "data": {
      "text/plain": [
       "2193    28000\n",
       "Name: Rent, dtype: int64"
      ]
     },
     "execution_count": 87,
     "metadata": {},
     "output_type": "execute_result"
    }
   ],
   "source": [
    "y_train.head(1)"
   ]
  },
  {
   "cell_type": "code",
   "execution_count": 127,
   "id": "2ab0b0a2",
   "metadata": {
    "scrolled": true
   },
   "outputs": [
    {
     "data": {
      "text/plain": [
       "array([29939.812], dtype=float32)"
      ]
     },
     "execution_count": 127,
     "metadata": {},
     "output_type": "execute_result"
    }
   ],
   "source": [
    "columns = X_train.columns\n",
    "data = [[3, \"Carpet Area\", \"Bangalore\", \"Semi-Furnished\", \"Bachelors/Family\", 3, \"Contact Owner\", 18, 19, 2004.243196]]\n",
    "data = pd.DataFrame(data=data, columns=columns)\n",
    "\n",
    "pred = model.predict(data)\n",
    "# pred = np.asarray(pred)\n",
    "pred"
   ]
  },
  {
   "cell_type": "code",
   "execution_count": 126,
   "id": "b5555d8e",
   "metadata": {},
   "outputs": [
    {
     "data": {
      "text/plain": [
       "3100.0"
      ]
     },
     "execution_count": 126,
     "metadata": {},
     "output_type": "execute_result"
    }
   ],
   "source": [
    "df['Fixed Size'].max()"
   ]
  },
  {
   "cell_type": "code",
   "execution_count": 114,
   "id": "9f3e7dca",
   "metadata": {},
   "outputs": [
    {
     "data": {
      "text/plain": [
       "Index(['BHK', 'Area Type', 'City', 'Furnishing Status', 'Tenant Preferred',\n",
       "       'Bathroom', 'Point of Contact', 'Rental Floor', 'Total Number of Floor',\n",
       "       'Fixed Size'],\n",
       "      dtype='object')"
      ]
     },
     "execution_count": 114,
     "metadata": {},
     "output_type": "execute_result"
    }
   ],
   "source": [
    "columns"
   ]
  },
  {
   "cell_type": "markdown",
   "id": "ba2802f1",
   "metadata": {},
   "source": [
    "## Predictions for the next 10 years\n",
    "Annual average increase 10% [source](https://www.nobroker.in/forum/how-much-you-can-increase-the-rent/#:~:text=Landlords%20can%20increase%20the%20total,the%20landlords%20fulfil%20their%20obligations)"
   ]
  },
  {
   "cell_type": "code",
   "execution_count": 128,
   "id": "c70a6a7b",
   "metadata": {},
   "outputs": [
    {
     "name": "stdout",
     "output_type": "stream",
     "text": [
      "\n",
      "Disclaimer ! This prediction is not entirely true, \n",
      "because the rental price changes from time to time according \n",
      "to the owner's policy\n",
      "=========================\n",
      "2023 : [32933.79] Rupee\n",
      "2024 : [35927.77] Rupee\n",
      "2025 : [38921.76] Rupee\n",
      "2026 : [41915.74] Rupee\n",
      "2027 : [44909.72] Rupee\n",
      "2028 : [47903.7] Rupee\n",
      "2029 : [50897.68] Rupee\n",
      "2030 : [53891.66] Rupee\n",
      "2031 : [56885.64] Rupee\n",
      "2032 : [59879.62] Rupee\n"
     ]
    }
   ],
   "source": [
    "# increase = float(input(\"Enter :\" ))\n",
    "year = 2022\n",
    "increase = 0.1\n",
    "\n",
    "print(\"\"\"\n",
    "Disclaimer ! This prediction is not entirely true, \n",
    "because the rental price changes from time to time according \n",
    "to the owner's policy\"\"\")\n",
    "print(\"=\"*25)\n",
    "for i in range(1, 11):\n",
    "    up = (pred * increase) + pred\n",
    "    increase = increase + 0.1\n",
    "    years = year + i\n",
    "    print(f\"{years} : {np.round(up, 2)} Rupee\")"
   ]
  },
  {
   "cell_type": "markdown",
   "id": "44768f4f",
   "metadata": {},
   "source": [
    "# Save model"
   ]
  },
  {
   "cell_type": "code",
   "execution_count": 113,
   "id": "549de0e3",
   "metadata": {},
   "outputs": [
    {
     "data": {
      "text/plain": [
       "['final_model.pkl']"
      ]
     },
     "execution_count": 113,
     "metadata": {},
     "output_type": "execute_result"
    }
   ],
   "source": [
    "import joblib\n",
    "\n",
    "joblib.dump(model, 'final_model.pkl')"
   ]
  }
 ],
 "metadata": {
  "kernelspec": {
   "display_name": "Python 3 (ipykernel)",
   "language": "python",
   "name": "python3"
  },
  "language_info": {
   "codemirror_mode": {
    "name": "ipython",
    "version": 3
   },
   "file_extension": ".py",
   "mimetype": "text/x-python",
   "name": "python",
   "nbconvert_exporter": "python",
   "pygments_lexer": "ipython3",
   "version": "3.10.4"
  }
 },
 "nbformat": 4,
 "nbformat_minor": 5
}
